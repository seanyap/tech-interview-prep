{
 "cells": [
  {
   "cell_type": "markdown",
   "id": "207c9cca",
   "metadata": {},
   "source": [
    "# Python Syntax Notes"
   ]
  },
  {
   "cell_type": "markdown",
   "id": "480aa369",
   "metadata": {},
   "source": [
    "Variable Naming Convention: snake_case"
   ]
  },
  {
   "cell_type": "markdown",
   "id": "766e07c4",
   "metadata": {},
   "source": [
    "### Literal String Interpolation / F-strings \n",
    "* use to embed python expressions inside string literals for formatting\n",
    "\n",
    "#### Other String formatting methods\n",
    "* % formatting\n",
    "* str.format()"
   ]
  },
  {
   "cell_type": "markdown",
   "id": "c723f608",
   "metadata": {},
   "source": [
    "### Python Variables Declaration & Definition"
   ]
  },
  {
   "cell_type": "code",
   "execution_count": 14,
   "id": "54a86510",
   "metadata": {},
   "outputs": [],
   "source": [
    "first_name = \"Sean\"\n",
    "last_name = \"Yap\""
   ]
  },
  {
   "cell_type": "markdown",
   "id": "cf44034d",
   "metadata": {},
   "source": [
    "### Literal String Interpolation / F-strings"
   ]
  },
  {
   "cell_type": "code",
   "execution_count": 16,
   "id": "f97ea9f3",
   "metadata": {},
   "outputs": [
    {
     "name": "stdout",
     "output_type": "stream",
     "text": [
      "Hello Sean Yap!\n"
     ]
    }
   ],
   "source": [
    "print(f\"Hello {first_name} {last_name}!\")"
   ]
  },
  {
   "cell_type": "markdown",
   "id": "f3965d7c",
   "metadata": {},
   "source": [
    "### Python Function Definition"
   ]
  },
  {
   "cell_type": "code",
   "execution_count": 20,
   "id": "7b7b507f",
   "metadata": {},
   "outputs": [
    {
     "name": "stdout",
     "output_type": "stream",
     "text": [
      "The name is: SeanYap\n"
     ]
    }
   ],
   "source": [
    "# Function Signature => def function_name(arg):\n",
    "def print_name(first, last):\n",
    "    print(\"The name is: \" + first + last)\n",
    "    \n",
    "# Function call\n",
    "print_name(first_name, last_name)"
   ]
  },
  {
   "cell_type": "markdown",
   "id": "8c1ba98d",
   "metadata": {},
   "source": [
    "### Python Class Definition\n",
    "\n",
    "#### self keyword \n",
    "* use to access object/instance variables in class definition\n",
    "* all methods (functions that belongs to objects) has self as their first argument"
   ]
  },
  {
   "cell_type": "code",
   "execution_count": 11,
   "id": "edd8cdec",
   "metadata": {},
   "outputs": [],
   "source": [
    "class Person:\n",
    "    \n",
    "    # Class Variable\n",
    "    type = 'Human' # all object shares this value\n",
    "    \n",
    "    # constructor method (first method to run on object instantiation)\n",
    "    def __init__(self, name):\n",
    "        self.name = name \n",
    "        \n",
    "    def say_hi(self):\n",
    "        print('Hello, my name is', self.name)\n",
    "        "
   ]
  },
  {
   "cell_type": "code",
   "execution_count": 13,
   "id": "df9f42cf",
   "metadata": {},
   "outputs": [
    {
     "name": "stdout",
     "output_type": "stream",
     "text": [
      "Hello, my name is Sean\n"
     ]
    }
   ],
   "source": [
    "# Python Object Instantiation\n",
    "\n",
    "p = Person('Sean')\n",
    "p.say_hi()"
   ]
  },
  {
   "cell_type": "markdown",
   "id": "a3d9a1da",
   "metadata": {},
   "source": [
    "### Python Loops\n",
    "\n",
    "##### For loop \n",
    "* say \"loop **for** x times\"\n",
    "\n",
    "##### While loop \n",
    "* say \"loop **while** something is true\"\n",
    "* or \"loop **until** something becomes false\""
   ]
  },
  {
   "cell_type": "code",
   "execution_count": 19,
   "id": "776f9d77",
   "metadata": {},
   "outputs": [
    {
     "name": "stdout",
     "output_type": "stream",
     "text": [
      "0\n",
      "1\n",
      "2\n",
      "1\n",
      "2\n",
      "3\n",
      "1\n",
      "2\n",
      "3\n",
      "S\n",
      "e\n",
      "a\n",
      "n\n"
     ]
    }
   ],
   "source": [
    "# For loop with Index Access\n",
    "for i in range(3):\n",
    "    # i starts from 0 \n",
    "    print(i) \n",
    "    \n",
    "# Loop Array without Index Access (notice how element is accessed compared with using index)\n",
    "arr = [1, 2, 3]\n",
    "for elem in arr:\n",
    "    print(elem)\n",
    "    \n",
    "# Loop Array with Index Access \n",
    "for i in range(len(arr)):\n",
    "    print(arr[i])\n",
    "    \n",
    "# Loop String\n",
    "name = \"Sean\"\n",
    "for char in name:\n",
    "    print(char)\n"
   ]
  },
  {
   "cell_type": "markdown",
   "id": "040e1ac2",
   "metadata": {},
   "source": [
    "### Python Strings and Common String Operations"
   ]
  },
  {
   "cell_type": "code",
   "execution_count": null,
   "id": "f7a258a5",
   "metadata": {},
   "outputs": [],
   "source": []
  },
  {
   "cell_type": "markdown",
   "id": "6a190309",
   "metadata": {},
   "source": [
    "### Python List/Array and Common List Operations"
   ]
  },
  {
   "cell_type": "code",
   "execution_count": null,
   "id": "e809ffb4",
   "metadata": {},
   "outputs": [],
   "source": []
  }
 ],
 "metadata": {
  "kernelspec": {
   "display_name": "Python 3",
   "language": "python",
   "name": "python3"
  },
  "language_info": {
   "codemirror_mode": {
    "name": "ipython",
    "version": 3
   },
   "file_extension": ".py",
   "mimetype": "text/x-python",
   "name": "python",
   "nbconvert_exporter": "python",
   "pygments_lexer": "ipython3",
   "version": "3.9.2"
  }
 },
 "nbformat": 4,
 "nbformat_minor": 5
}

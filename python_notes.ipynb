{
 "cells": [
  {
   "cell_type": "markdown",
   "id": "207c9cca",
   "metadata": {},
   "source": [
    "# Python Syntax Notes"
   ]
  },
  {
   "cell_type": "markdown",
   "id": "480aa369",
   "metadata": {},
   "source": [
    "Variable Naming Convention: snake_case"
   ]
  },
  {
   "cell_type": "markdown",
   "id": "766e07c4",
   "metadata": {},
   "source": [
    "### Literal String Interpolation / F-strings \n",
    "* allows us to embed python expressions(variables' values) inside string literals \n",
    "\n",
    "#### Other String formatting methods\n",
    "* % formatting\n",
    "* str.format()\n",
    "\n",
    "#### Raw String\n",
    "* lets us treat backslash(\\) as a literal character\n",
    "* created by prefixing a string literal with 'r'\n",
    "\n",
    "* allows us to have string that contains backslash, without it being treated as an escape character\n",
    "* same thing can be done with double backslash(\\\\); first backslash escapes the second backslash\n",
    "* but at the expense of code readibility\n"
   ]
  },
  {
   "cell_type": "markdown",
   "id": "c723f608",
   "metadata": {},
   "source": [
    "### Python Variables Declaration & Definition"
   ]
  },
  {
   "cell_type": "code",
   "execution_count": 2,
   "id": "54a86510",
   "metadata": {},
   "outputs": [],
   "source": [
    "# assigning a value to two variables\n",
    "first_name = \"Sean\"\n",
    "last_name = \"Yap\"\n",
    "\n",
    "# another way to perform above in one line\n",
    "spam, eggs = 10, 5\n",
    "\n",
    "# creating a variable without assigning a value\n",
    "cake = None"
   ]
  },
  {
   "cell_type": "markdown",
   "id": "cf44034d",
   "metadata": {},
   "source": [
    "### Literal String Interpolation / F-strings"
   ]
  },
  {
   "cell_type": "code",
   "execution_count": 3,
   "id": "f97ea9f3",
   "metadata": {},
   "outputs": [
    {
     "name": "stdout",
     "output_type": "stream",
     "text": [
      "Hello Sean Yap!\n",
      "I have 10 spams and 5 eggs\n"
     ]
    }
   ],
   "source": [
    "print(f\"Hello {first_name} {last_name}!\")\n",
    "\n",
    "print(f\"I have {spam} spams and {eggs} eggs\")"
   ]
  },
  {
   "cell_type": "markdown",
   "id": "f3965d7c",
   "metadata": {},
   "source": [
    "### Python Function Definition"
   ]
  },
  {
   "cell_type": "code",
   "execution_count": 20,
   "id": "7b7b507f",
   "metadata": {},
   "outputs": [
    {
     "name": "stdout",
     "output_type": "stream",
     "text": [
      "The name is: SeanYap\n"
     ]
    }
   ],
   "source": [
    "# Function Signature => def function_name(arg):\n",
    "def print_name(first, last):\n",
    "    print(\"The name is: \" + first + last)\n",
    "    \n",
    "# Function call\n",
    "print_name(first_name, last_name)"
   ]
  },
  {
   "cell_type": "markdown",
   "id": "8c1ba98d",
   "metadata": {},
   "source": [
    "### Python Class Definition\n",
    "\n",
    "#### self keyword \n",
    "* use to access object/instance variables in class definition\n",
    "* all methods (functions that belongs to objects) has self as their first parameter"
   ]
  },
  {
   "cell_type": "code",
   "execution_count": 11,
   "id": "edd8cdec",
   "metadata": {},
   "outputs": [],
   "source": [
    "class Person:\n",
    "    \n",
    "    # Class Variable\n",
    "    type = 'Human' # all object shares this value\n",
    "    \n",
    "    # constructor method (first method to run on object instantiation)\n",
    "    def __init__(self, name):\n",
    "        self.name = name \n",
    "        \n",
    "    def say_hi(self):\n",
    "        print('Hello, my name is', self.name)\n",
    "        "
   ]
  },
  {
   "cell_type": "code",
   "execution_count": 13,
   "id": "df9f42cf",
   "metadata": {},
   "outputs": [
    {
     "name": "stdout",
     "output_type": "stream",
     "text": [
      "Hello, my name is Sean\n"
     ]
    }
   ],
   "source": [
    "# Python Object Instantiation\n",
    "\n",
    "p = Person('Sean')\n",
    "p.say_hi()"
   ]
  },
  {
   "cell_type": "markdown",
   "id": "a3d9a1da",
   "metadata": {},
   "source": [
    "### Python Loops\n",
    "\n",
    "##### For loop \n",
    "* say \"loop **for** x times\"\n",
    "\n",
    "##### While loop \n",
    "* say \"loop **while** something is true\"\n",
    "* or \"loop **until** something becomes false\""
   ]
  },
  {
   "cell_type": "code",
   "execution_count": 4,
   "id": "776f9d77",
   "metadata": {},
   "outputs": [
    {
     "name": "stdout",
     "output_type": "stream",
     "text": [
      "0\n",
      "1\n",
      "2\n",
      "a\n",
      "b\n",
      "c\n",
      "a\n",
      "b\n",
      "c\n",
      "S\n",
      "e\n",
      "a\n",
      "n\n"
     ]
    }
   ],
   "source": [
    "# For loop with Index Access\n",
    "for i in range(3):\n",
    "    print(i) # i starts from 0 \n",
    "    \n",
    "# Loop Array without Index Access (notice how element is accessed compared with using index)\n",
    "arr = ['a', 'b', 'c']\n",
    "for elem in arr:\n",
    "    print(elem)\n",
    "    \n",
    "# Loop Array with Index Access \n",
    "for i in range(len(arr)):\n",
    "    print(arr[i])\n",
    "    \n",
    "# Loop String\n",
    "name = \"Sean\"\n",
    "for char in name:\n",
    "    print(char)\n"
   ]
  },
  {
   "cell_type": "markdown",
   "id": "040e1ac2",
   "metadata": {},
   "source": [
    "### Python Strings and Common String Operations\n",
    "\n",
    "##### String Slice Concept\n",
    "* get a slice of the string\n",
    "* syntax: [ start : end ]  [inclusive, exclusive)\n",
    "* this allows the math (end - start) to be easier\n",
    "\n",
    "##### String Split Concept\n",
    "* split a string into an array of sub-strings\n",
    "* (breaking down a string into smaller parts)\n",
    "\n",
    "##### String Join Concept\n",
    "* join an array of elements into a single string\n",
    "* (simplify many smaller parts into one single object)\n",
    "\n",
    "##### Strings are immutable\n",
    "* elements of a string cannot be changed once created\n",
    "\n",
    "##### String Membership Test\n",
    "* check if a letter/char is in a string \n",
    "* use keyword: in, not in\n",
    "\n",
    "##### String Built-in Functions/Methods\n",
    "* len( )\n",
    "* .index( )\n",
    "* .split( )\n",
    "* .join( )\n",
    "* .format( )\n",
    "* .upper( ), lower( )"
   ]
  },
  {
   "cell_type": "code",
   "execution_count": null,
   "id": "f7a258a5",
   "metadata": {},
   "outputs": [],
   "source": []
  },
  {
   "cell_type": "markdown",
   "id": "6a190309",
   "metadata": {},
   "source": [
    "### Python List/Array and Common List Operations\n",
    "\n",
    "A Python sequence data type that can store different data types like integers, string, even itself lists\n",
    "\n",
    "Lists are mutable, unlike string or tuple\n",
    "\n",
    "##### Accessing List Elements\n",
    "* Positive / Negative Index\n",
    "\n",
    "<img align=\"left\" src=\"assets/python-list-index.webp\" width=600 height=300 />\n",
    "<div style=\"clear: both;\"></div>\n",
    "\n",
    "##### Assign / Change List Elements\n",
    "* use the assignment operator = \n",
    "\n",
    "##### Methods to Add item to a list\n",
    "* .append() => to add one item to a list\n",
    "* .extend() => to add a list of items into a list\n",
    "\n",
    "##### Method to Remove item from a list\n",
    "* .pop() => remove an item at a given index; default is the last item in the list\n",
    "\n",
    "##### Slicing List\n",
    "* get a slice of the list (doest not modify the existing list; this operation creates a new list)\n",
    "* use the slicing operator, : (colon)\n",
    "\n",
    "<img align=\"left\" src=\"assets/element-slicing.webp\" width=600 height=300 />\n",
    "<div style=\"clear: both;\"></div>\n",
    "\n",
    "##### Gets the index of an item \n",
    "* .index() => returns the index of the first matched item\n",
    "\n",
    "##### Check if an item exists in a list\n",
    "* keyword: in, not in\n"
   ]
  },
  {
   "cell_type": "code",
   "execution_count": 1,
   "id": "e809ffb4",
   "metadata": {},
   "outputs": [
    {
     "name": "stdout",
     "output_type": "stream",
     "text": [
      "[1, 3, 5, 7]\n",
      "[1, 3, 5, 7, 9, 11, 13]\n",
      "1\n",
      "2\n",
      "4\n",
      "[0, 1, 3, 6, 8, 8]\n",
      "[8, 8, 6, 3, 1, 0]\n",
      "['o', 'g', 'r']\n",
      "['p', 'r', 'o', 'g']\n",
      "['a', 'm', 'i', 'z']\n",
      "['p', 'r', 'o', 'g', 'r', 'a', 'm', 'i', 'z']\n",
      "True\n",
      "True\n"
     ]
    }
   ],
   "source": [
    "# Appending and Extending lists in Python\n",
    "odd = [1, 3, 5]\n",
    "\n",
    "odd.append(7) \n",
    "print(odd) # Output: [1, 3, 5, 7]\n",
    "\n",
    "odd.extend([9, 11, 13])\n",
    "print(odd) # Output: [1, 3, 5, 7, 9, 11, 13]\n",
    "\n",
    "\n",
    "# Python list methods\n",
    "my_list = [3, 8, 1, 6, 0, 8, 4]\n",
    "\n",
    "print(my_list.index(8)) # Output: 1\n",
    "\n",
    "print(my_list.count(8)) # Output: 2\n",
    "\n",
    "print(my_list.pop()) # Output: 4\n",
    "\n",
    "my_list.sort()\n",
    "print(my_list) # Output: [0, 1, 3, 6, 8, 8]\n",
    "\n",
    "my_list.reverse()\n",
    "print(my_list) # Output: [8, 8, 6, 3, 1, 0]\n",
    "\n",
    "\n",
    "# List slicing in Python\n",
    "my_list = ['p','r','o','g','r','a','m','i','z']\n",
    "\n",
    "print(my_list[2:5]) # elements 3rd to 5th\n",
    "\n",
    "print(my_list[:-5]) # elements beginning to 4th\n",
    "\n",
    "print(my_list[5:]) # elements 6th to end\n",
    "\n",
    "print(my_list[:]) # elements beginning to end\n",
    "\n",
    "\n",
    "# List Membership tese\n",
    "print('a' in my_list) # Output: False\n",
    "\n",
    "print('c' not in my_list) # Output: True"
   ]
  },
  {
   "cell_type": "code",
   "execution_count": null,
   "id": "9a24412c",
   "metadata": {},
   "outputs": [],
   "source": []
  }
 ],
 "metadata": {
  "kernelspec": {
   "display_name": "Python 3",
   "language": "python",
   "name": "python3"
  },
  "language_info": {
   "codemirror_mode": {
    "name": "ipython",
    "version": 3
   },
   "file_extension": ".py",
   "mimetype": "text/x-python",
   "name": "python",
   "nbconvert_exporter": "python",
   "pygments_lexer": "ipython3",
   "version": "3.9.2"
  }
 },
 "nbformat": 4,
 "nbformat_minor": 5
}
